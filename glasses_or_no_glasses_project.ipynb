{
  "nbformat": 4,
  "nbformat_minor": 0,
  "metadata": {
    "kernelspec": {
      "display_name": "Python 3",
      "language": "python",
      "name": "python3"
    },
    "language_info": {
      "codemirror_mode": {
        "name": "ipython",
        "version": 3
      },
      "file_extension": ".py",
      "mimetype": "text/x-python",
      "name": "python",
      "nbconvert_exporter": "python",
      "pygments_lexer": "ipython3",
      "version": "3.8.8"
    },
    "colab": {
      "name": "glasses or no glasses project.ipynb",
      "provenance": [],
      "collapsed_sections": []
    }
  },
  "cells": [
    {
      "cell_type": "code",
      "metadata": {
        "id": "1YJmfaveb1VZ"
      },
      "source": [
        ""
      ],
      "execution_count": null,
      "outputs": []
    },
    {
      "cell_type": "code",
      "metadata": {
        "colab": {
          "base_uri": "https://localhost:8080/"
        },
        "id": "4ghyznHAb4E-",
        "outputId": "e9aa2baa-e886-40c3-99e0-2134f02d3b98"
      },
      "source": [
        "from google.colab import drive\n",
        "drive.mount('/content/drive')"
      ],
      "execution_count": null,
      "outputs": [
        {
          "output_type": "stream",
          "text": [
            "Mounted at /content/drive\n"
          ],
          "name": "stdout"
        }
      ]
    },
    {
      "cell_type": "markdown",
      "metadata": {
        "_cell_guid": "b1076dfc-b9ad-4769-8c92-a6c4dae69d19",
        "_uuid": "8f2839f25d086af736a60e9eeb907d3b93b6e0e5",
        "id": "FW__JonXbo9g"
      },
      "source": [
        "# Import Libraries\n"
      ]
    },
    {
      "cell_type": "code",
      "metadata": {
        "_cell_guid": "79c7e3d0-c299-4dcb-8224-4455121ee9b0",
        "_uuid": "d629ff2d2480ee46fbb7e2d37f6b5fab8052498a",
        "id": "cgwOTlKGbo9o"
      },
      "source": [
        "import numpy as np\n",
        "import pandas as pd\n",
        "import matplotlib.pyplot as plt\n",
        "import seaborn as sns\n",
        "%matplotlib inline\n",
        "import tensorflow as tf\n",
        "from tensorflow import keras\n",
        "from sklearn.preprocessing import StandardScaler"
      ],
      "execution_count": null,
      "outputs": []
    },
    {
      "cell_type": "code",
      "metadata": {
        "id": "N50EpwFAbo9q"
      },
      "source": [
        "#Performance Metrics Librares\n",
        "\n",
        "from sklearn.metrics import accuracy_score, precision_score, recall_score\n",
        "from sklearn.metrics import confusion_matrix, f1_score\n",
        "from sklearn.metrics import roc_auc_score, roc_curve, auc"
      ],
      "execution_count": null,
      "outputs": []
    },
    {
      "cell_type": "markdown",
      "metadata": {
        "id": "J9wdVB6Zbo9r"
      },
      "source": [
        "# Dataset Import"
      ]
    },
    {
      "cell_type": "code",
      "metadata": {
        "id": "KU4usxeQbo9s"
      },
      "source": [
        "PATH_TRAINCSV = r'/content/drive/MyDrive/Dataset/train.csv'\n"
      ],
      "execution_count": null,
      "outputs": []
    },
    {
      "cell_type": "code",
      "metadata": {
        "id": "a7PlwB5nbo9t"
      },
      "source": [
        "df=pd.read_csv(PATH_TRAINCSV)\n"
      ],
      "execution_count": null,
      "outputs": []
    },
    {
      "cell_type": "code",
      "metadata": {
        "id": "31FhlaYZbzef"
      },
      "source": [
        ""
      ],
      "execution_count": null,
      "outputs": []
    },
    {
      "cell_type": "code",
      "metadata": {
        "id": "XFySqge7bo9u",
        "outputId": "1f7c0a89-aabd-411f-cfa1-490e63cdde02"
      },
      "source": [
        "df.shape"
      ],
      "execution_count": null,
      "outputs": [
        {
          "data": {
            "text/plain": [
              "(4500, 514)"
            ]
          },
          "execution_count": 39,
          "metadata": {},
          "output_type": "execute_result"
        }
      ]
    },
    {
      "cell_type": "code",
      "metadata": {
        "id": "cgTTwWRsbo9x",
        "outputId": "29a36841-cdc3-4094-ea69-1423063a2de0"
      },
      "source": [
        "df.head()"
      ],
      "execution_count": null,
      "outputs": [
        {
          "data": {
            "text/html": [
              "<div>\n",
              "<style scoped>\n",
              "    .dataframe tbody tr th:only-of-type {\n",
              "        vertical-align: middle;\n",
              "    }\n",
              "\n",
              "    .dataframe tbody tr th {\n",
              "        vertical-align: top;\n",
              "    }\n",
              "\n",
              "    .dataframe thead th {\n",
              "        text-align: right;\n",
              "    }\n",
              "</style>\n",
              "<table border=\"1\" class=\"dataframe\">\n",
              "  <thead>\n",
              "    <tr style=\"text-align: right;\">\n",
              "      <th></th>\n",
              "      <th>id</th>\n",
              "      <th>v1</th>\n",
              "      <th>v2</th>\n",
              "      <th>v3</th>\n",
              "      <th>v4</th>\n",
              "      <th>v5</th>\n",
              "      <th>v6</th>\n",
              "      <th>v7</th>\n",
              "      <th>v8</th>\n",
              "      <th>v9</th>\n",
              "      <th>...</th>\n",
              "      <th>v504</th>\n",
              "      <th>v505</th>\n",
              "      <th>v506</th>\n",
              "      <th>v507</th>\n",
              "      <th>v508</th>\n",
              "      <th>v509</th>\n",
              "      <th>v510</th>\n",
              "      <th>v511</th>\n",
              "      <th>v512</th>\n",
              "      <th>glasses</th>\n",
              "    </tr>\n",
              "  </thead>\n",
              "  <tbody>\n",
              "    <tr>\n",
              "      <th>0</th>\n",
              "      <td>1</td>\n",
              "      <td>0.37797</td>\n",
              "      <td>-0.94808</td>\n",
              "      <td>0.01346</td>\n",
              "      <td>0.17893</td>\n",
              "      <td>0.37795</td>\n",
              "      <td>0.63571</td>\n",
              "      <td>0.13943</td>\n",
              "      <td>-0.25607</td>\n",
              "      <td>-0.39341</td>\n",
              "      <td>...</td>\n",
              "      <td>-0.03494</td>\n",
              "      <td>1.32443</td>\n",
              "      <td>-0.94570</td>\n",
              "      <td>0.02055</td>\n",
              "      <td>-1.23908</td>\n",
              "      <td>0.43507</td>\n",
              "      <td>1.08635</td>\n",
              "      <td>1.69027</td>\n",
              "      <td>0.61609</td>\n",
              "      <td>0</td>\n",
              "    </tr>\n",
              "    <tr>\n",
              "      <th>1</th>\n",
              "      <td>2</td>\n",
              "      <td>0.07609</td>\n",
              "      <td>-0.09774</td>\n",
              "      <td>0.39666</td>\n",
              "      <td>-0.39026</td>\n",
              "      <td>0.10606</td>\n",
              "      <td>0.52774</td>\n",
              "      <td>0.07105</td>\n",
              "      <td>0.33720</td>\n",
              "      <td>0.69917</td>\n",
              "      <td>...</td>\n",
              "      <td>0.86624</td>\n",
              "      <td>-1.24953</td>\n",
              "      <td>-0.21511</td>\n",
              "      <td>-1.54146</td>\n",
              "      <td>1.04765</td>\n",
              "      <td>-1.24035</td>\n",
              "      <td>0.00866</td>\n",
              "      <td>-1.27640</td>\n",
              "      <td>-0.60496</td>\n",
              "      <td>1</td>\n",
              "    </tr>\n",
              "    <tr>\n",
              "      <th>2</th>\n",
              "      <td>3</td>\n",
              "      <td>1.19391</td>\n",
              "      <td>-0.68707</td>\n",
              "      <td>-0.68422</td>\n",
              "      <td>-0.36378</td>\n",
              "      <td>-0.60847</td>\n",
              "      <td>-0.40118</td>\n",
              "      <td>1.45432</td>\n",
              "      <td>0.00592</td>\n",
              "      <td>1.68940</td>\n",
              "      <td>...</td>\n",
              "      <td>-0.35893</td>\n",
              "      <td>0.02330</td>\n",
              "      <td>0.31548</td>\n",
              "      <td>-0.34923</td>\n",
              "      <td>-0.41772</td>\n",
              "      <td>-0.58175</td>\n",
              "      <td>-0.60177</td>\n",
              "      <td>0.43555</td>\n",
              "      <td>0.41982</td>\n",
              "      <td>1</td>\n",
              "    </tr>\n",
              "    <tr>\n",
              "      <th>3</th>\n",
              "      <td>4</td>\n",
              "      <td>1.34949</td>\n",
              "      <td>-0.31498</td>\n",
              "      <td>-1.30248</td>\n",
              "      <td>0.50278</td>\n",
              "      <td>1.66292</td>\n",
              "      <td>-1.06094</td>\n",
              "      <td>-0.70835</td>\n",
              "      <td>-0.24237</td>\n",
              "      <td>-0.15509</td>\n",
              "      <td>...</td>\n",
              "      <td>0.23942</td>\n",
              "      <td>0.20774</td>\n",
              "      <td>0.81792</td>\n",
              "      <td>-0.74814</td>\n",
              "      <td>-0.62521</td>\n",
              "      <td>0.01689</td>\n",
              "      <td>0.83997</td>\n",
              "      <td>-0.46986</td>\n",
              "      <td>0.06755</td>\n",
              "      <td>0</td>\n",
              "    </tr>\n",
              "    <tr>\n",
              "      <th>4</th>\n",
              "      <td>5</td>\n",
              "      <td>-0.03512</td>\n",
              "      <td>-0.34196</td>\n",
              "      <td>0.14230</td>\n",
              "      <td>1.50513</td>\n",
              "      <td>-0.14364</td>\n",
              "      <td>0.49429</td>\n",
              "      <td>0.07823</td>\n",
              "      <td>-0.04356</td>\n",
              "      <td>0.42009</td>\n",
              "      <td>...</td>\n",
              "      <td>-1.78407</td>\n",
              "      <td>0.07465</td>\n",
              "      <td>1.50182</td>\n",
              "      <td>-0.41289</td>\n",
              "      <td>-0.55908</td>\n",
              "      <td>-0.29702</td>\n",
              "      <td>0.83641</td>\n",
              "      <td>0.59756</td>\n",
              "      <td>-0.20298</td>\n",
              "      <td>0</td>\n",
              "    </tr>\n",
              "  </tbody>\n",
              "</table>\n",
              "<p>5 rows × 514 columns</p>\n",
              "</div>"
            ],
            "text/plain": [
              "   id       v1       v2       v3       v4       v5       v6       v7       v8  \\\n",
              "0   1  0.37797 -0.94808  0.01346  0.17893  0.37795  0.63571  0.13943 -0.25607   \n",
              "1   2  0.07609 -0.09774  0.39666 -0.39026  0.10606  0.52774  0.07105  0.33720   \n",
              "2   3  1.19391 -0.68707 -0.68422 -0.36378 -0.60847 -0.40118  1.45432  0.00592   \n",
              "3   4  1.34949 -0.31498 -1.30248  0.50278  1.66292 -1.06094 -0.70835 -0.24237   \n",
              "4   5 -0.03512 -0.34196  0.14230  1.50513 -0.14364  0.49429  0.07823 -0.04356   \n",
              "\n",
              "        v9  ...     v504     v505     v506     v507     v508     v509  \\\n",
              "0 -0.39341  ... -0.03494  1.32443 -0.94570  0.02055 -1.23908  0.43507   \n",
              "1  0.69917  ...  0.86624 -1.24953 -0.21511 -1.54146  1.04765 -1.24035   \n",
              "2  1.68940  ... -0.35893  0.02330  0.31548 -0.34923 -0.41772 -0.58175   \n",
              "3 -0.15509  ...  0.23942  0.20774  0.81792 -0.74814 -0.62521  0.01689   \n",
              "4  0.42009  ... -1.78407  0.07465  1.50182 -0.41289 -0.55908 -0.29702   \n",
              "\n",
              "      v510     v511     v512  glasses  \n",
              "0  1.08635  1.69027  0.61609        0  \n",
              "1  0.00866 -1.27640 -0.60496        1  \n",
              "2 -0.60177  0.43555  0.41982        1  \n",
              "3  0.83997 -0.46986  0.06755        0  \n",
              "4  0.83641  0.59756 -0.20298        0  \n",
              "\n",
              "[5 rows x 514 columns]"
            ]
          },
          "execution_count": 40,
          "metadata": {},
          "output_type": "execute_result"
        }
      ]
    },
    {
      "cell_type": "markdown",
      "metadata": {
        "id": "4QjqX10Xbo9z"
      },
      "source": [
        "# Preprocessing of Dataset"
      ]
    },
    {
      "cell_type": "code",
      "metadata": {
        "id": "jdR5GeEAbo91",
        "outputId": "7ab0ec8f-5578-4479-9f29-5b08500c1fd0"
      },
      "source": [
        "# checking the missing values\n",
        "df.isna().sum()"
      ],
      "execution_count": null,
      "outputs": [
        {
          "data": {
            "text/plain": [
              "id         0\n",
              "v1         0\n",
              "v2         0\n",
              "v3         0\n",
              "v4         0\n",
              "          ..\n",
              "v509       0\n",
              "v510       0\n",
              "v511       0\n",
              "v512       0\n",
              "glasses    0\n",
              "Length: 514, dtype: int64"
            ]
          },
          "execution_count": 41,
          "metadata": {},
          "output_type": "execute_result"
        }
      ]
    },
    {
      "cell_type": "code",
      "metadata": {
        "id": "c--1ytkIbo92",
        "outputId": "96babea9-e0c2-477c-a9fa-8e8d88d22fdc"
      },
      "source": [
        "#Checking duplicate rows\n",
        "duplicate = df[df.duplicated()]\n",
        "  \n",
        "print(\"Duplicate Rows :\")\n",
        "  \n",
        "# Print the resultant Dataframe\n",
        "duplicate"
      ],
      "execution_count": null,
      "outputs": [
        {
          "name": "stdout",
          "output_type": "stream",
          "text": [
            "Duplicate Rows :\n"
          ]
        },
        {
          "data": {
            "text/html": [
              "<div>\n",
              "<style scoped>\n",
              "    .dataframe tbody tr th:only-of-type {\n",
              "        vertical-align: middle;\n",
              "    }\n",
              "\n",
              "    .dataframe tbody tr th {\n",
              "        vertical-align: top;\n",
              "    }\n",
              "\n",
              "    .dataframe thead th {\n",
              "        text-align: right;\n",
              "    }\n",
              "</style>\n",
              "<table border=\"1\" class=\"dataframe\">\n",
              "  <thead>\n",
              "    <tr style=\"text-align: right;\">\n",
              "      <th></th>\n",
              "      <th>id</th>\n",
              "      <th>v1</th>\n",
              "      <th>v2</th>\n",
              "      <th>v3</th>\n",
              "      <th>v4</th>\n",
              "      <th>v5</th>\n",
              "      <th>v6</th>\n",
              "      <th>v7</th>\n",
              "      <th>v8</th>\n",
              "      <th>v9</th>\n",
              "      <th>...</th>\n",
              "      <th>v504</th>\n",
              "      <th>v505</th>\n",
              "      <th>v506</th>\n",
              "      <th>v507</th>\n",
              "      <th>v508</th>\n",
              "      <th>v509</th>\n",
              "      <th>v510</th>\n",
              "      <th>v511</th>\n",
              "      <th>v512</th>\n",
              "      <th>glasses</th>\n",
              "    </tr>\n",
              "  </thead>\n",
              "  <tbody>\n",
              "  </tbody>\n",
              "</table>\n",
              "<p>0 rows × 514 columns</p>\n",
              "</div>"
            ],
            "text/plain": [
              "Empty DataFrame\n",
              "Columns: [id, v1, v2, v3, v4, v5, v6, v7, v8, v9, v10, v11, v12, v13, v14, v15, v16, v17, v18, v19, v20, v21, v22, v23, v24, v25, v26, v27, v28, v29, v30, v31, v32, v33, v34, v35, v36, v37, v38, v39, v40, v41, v42, v43, v44, v45, v46, v47, v48, v49, v50, v51, v52, v53, v54, v55, v56, v57, v58, v59, v60, v61, v62, v63, v64, v65, v66, v67, v68, v69, v70, v71, v72, v73, v74, v75, v76, v77, v78, v79, v80, v81, v82, v83, v84, v85, v86, v87, v88, v89, v90, v91, v92, v93, v94, v95, v96, v97, v98, v99, ...]\n",
              "Index: []\n",
              "\n",
              "[0 rows x 514 columns]"
            ]
          },
          "execution_count": 42,
          "metadata": {},
          "output_type": "execute_result"
        }
      ]
    },
    {
      "cell_type": "code",
      "metadata": {
        "id": "yIVSd3QBbo93",
        "outputId": "e2fb021d-f6bf-4b3f-ac07-6b27ec85809e"
      },
      "source": [
        "#information of data type of each column\n",
        "df.info()"
      ],
      "execution_count": null,
      "outputs": [
        {
          "name": "stdout",
          "output_type": "stream",
          "text": [
            "<class 'pandas.core.frame.DataFrame'>\n",
            "RangeIndex: 4500 entries, 0 to 4499\n",
            "Columns: 514 entries, id to glasses\n",
            "dtypes: float64(512), int64(2)\n",
            "memory usage: 17.6 MB\n"
          ]
        }
      ]
    },
    {
      "cell_type": "code",
      "metadata": {
        "id": "LD495zUjbo93",
        "outputId": "9e70c1ca-353e-49bd-b6eb-1d588f68eb9d"
      },
      "source": [
        "#statistical information of the dataset\n",
        "df.describe()"
      ],
      "execution_count": null,
      "outputs": [
        {
          "data": {
            "text/html": [
              "<div>\n",
              "<style scoped>\n",
              "    .dataframe tbody tr th:only-of-type {\n",
              "        vertical-align: middle;\n",
              "    }\n",
              "\n",
              "    .dataframe tbody tr th {\n",
              "        vertical-align: top;\n",
              "    }\n",
              "\n",
              "    .dataframe thead th {\n",
              "        text-align: right;\n",
              "    }\n",
              "</style>\n",
              "<table border=\"1\" class=\"dataframe\">\n",
              "  <thead>\n",
              "    <tr style=\"text-align: right;\">\n",
              "      <th></th>\n",
              "      <th>id</th>\n",
              "      <th>v1</th>\n",
              "      <th>v2</th>\n",
              "      <th>v3</th>\n",
              "      <th>v4</th>\n",
              "      <th>v5</th>\n",
              "      <th>v6</th>\n",
              "      <th>v7</th>\n",
              "      <th>v8</th>\n",
              "      <th>v9</th>\n",
              "      <th>...</th>\n",
              "      <th>v504</th>\n",
              "      <th>v505</th>\n",
              "      <th>v506</th>\n",
              "      <th>v507</th>\n",
              "      <th>v508</th>\n",
              "      <th>v509</th>\n",
              "      <th>v510</th>\n",
              "      <th>v511</th>\n",
              "      <th>v512</th>\n",
              "      <th>glasses</th>\n",
              "    </tr>\n",
              "  </thead>\n",
              "  <tbody>\n",
              "    <tr>\n",
              "      <th>count</th>\n",
              "      <td>4500.000000</td>\n",
              "      <td>4500.000000</td>\n",
              "      <td>4500.000000</td>\n",
              "      <td>4500.000000</td>\n",
              "      <td>4500.000000</td>\n",
              "      <td>4500.000000</td>\n",
              "      <td>4500.000000</td>\n",
              "      <td>4500.000000</td>\n",
              "      <td>4500.000000</td>\n",
              "      <td>4500.000000</td>\n",
              "      <td>...</td>\n",
              "      <td>4500.000000</td>\n",
              "      <td>4500.000000</td>\n",
              "      <td>4500.000000</td>\n",
              "      <td>4500.000000</td>\n",
              "      <td>4500.000000</td>\n",
              "      <td>4500.000000</td>\n",
              "      <td>4500.000000</td>\n",
              "      <td>4500.000000</td>\n",
              "      <td>4500.000000</td>\n",
              "      <td>4500.000000</td>\n",
              "    </tr>\n",
              "    <tr>\n",
              "      <th>mean</th>\n",
              "      <td>2250.500000</td>\n",
              "      <td>0.029433</td>\n",
              "      <td>-0.072952</td>\n",
              "      <td>-0.063137</td>\n",
              "      <td>-0.027426</td>\n",
              "      <td>0.009050</td>\n",
              "      <td>-0.032587</td>\n",
              "      <td>0.005451</td>\n",
              "      <td>-0.101231</td>\n",
              "      <td>-0.134099</td>\n",
              "      <td>...</td>\n",
              "      <td>-0.091886</td>\n",
              "      <td>0.057622</td>\n",
              "      <td>-0.063235</td>\n",
              "      <td>-0.081697</td>\n",
              "      <td>-0.032337</td>\n",
              "      <td>-0.084307</td>\n",
              "      <td>-0.032826</td>\n",
              "      <td>0.096038</td>\n",
              "      <td>-0.064696</td>\n",
              "      <td>0.634667</td>\n",
              "    </tr>\n",
              "    <tr>\n",
              "      <th>std</th>\n",
              "      <td>1299.182435</td>\n",
              "      <td>0.769812</td>\n",
              "      <td>0.740963</td>\n",
              "      <td>0.746607</td>\n",
              "      <td>0.744712</td>\n",
              "      <td>0.775853</td>\n",
              "      <td>0.770992</td>\n",
              "      <td>0.761690</td>\n",
              "      <td>0.748796</td>\n",
              "      <td>0.746005</td>\n",
              "      <td>...</td>\n",
              "      <td>0.735644</td>\n",
              "      <td>0.739561</td>\n",
              "      <td>0.731691</td>\n",
              "      <td>0.761166</td>\n",
              "      <td>0.738119</td>\n",
              "      <td>0.743303</td>\n",
              "      <td>0.756891</td>\n",
              "      <td>0.737970</td>\n",
              "      <td>0.830538</td>\n",
              "      <td>0.481577</td>\n",
              "    </tr>\n",
              "    <tr>\n",
              "      <th>min</th>\n",
              "      <td>1.000000</td>\n",
              "      <td>-2.895330</td>\n",
              "      <td>-2.381940</td>\n",
              "      <td>-2.599930</td>\n",
              "      <td>-2.748930</td>\n",
              "      <td>-2.291530</td>\n",
              "      <td>-4.020940</td>\n",
              "      <td>-2.736720</td>\n",
              "      <td>-2.872970</td>\n",
              "      <td>-2.397950</td>\n",
              "      <td>...</td>\n",
              "      <td>-2.788230</td>\n",
              "      <td>-2.624400</td>\n",
              "      <td>-2.806240</td>\n",
              "      <td>-2.907480</td>\n",
              "      <td>-3.136690</td>\n",
              "      <td>-2.490630</td>\n",
              "      <td>-2.510730</td>\n",
              "      <td>-2.626380</td>\n",
              "      <td>-2.906970</td>\n",
              "      <td>0.000000</td>\n",
              "    </tr>\n",
              "    <tr>\n",
              "      <th>25%</th>\n",
              "      <td>1125.750000</td>\n",
              "      <td>-0.489807</td>\n",
              "      <td>-0.568788</td>\n",
              "      <td>-0.575425</td>\n",
              "      <td>-0.548002</td>\n",
              "      <td>-0.541330</td>\n",
              "      <td>-0.550515</td>\n",
              "      <td>-0.516868</td>\n",
              "      <td>-0.582322</td>\n",
              "      <td>-0.658523</td>\n",
              "      <td>...</td>\n",
              "      <td>-0.537458</td>\n",
              "      <td>-0.445472</td>\n",
              "      <td>-0.546610</td>\n",
              "      <td>-0.601095</td>\n",
              "      <td>-0.506628</td>\n",
              "      <td>-0.605840</td>\n",
              "      <td>-0.546325</td>\n",
              "      <td>-0.373465</td>\n",
              "      <td>-0.615955</td>\n",
              "      <td>0.000000</td>\n",
              "    </tr>\n",
              "    <tr>\n",
              "      <th>50%</th>\n",
              "      <td>2250.500000</td>\n",
              "      <td>-0.001540</td>\n",
              "      <td>-0.097665</td>\n",
              "      <td>-0.053115</td>\n",
              "      <td>-0.058240</td>\n",
              "      <td>0.003175</td>\n",
              "      <td>-0.046450</td>\n",
              "      <td>0.005075</td>\n",
              "      <td>-0.097295</td>\n",
              "      <td>-0.149740</td>\n",
              "      <td>...</td>\n",
              "      <td>-0.124335</td>\n",
              "      <td>0.034310</td>\n",
              "      <td>-0.045235</td>\n",
              "      <td>-0.103520</td>\n",
              "      <td>-0.038690</td>\n",
              "      <td>-0.099355</td>\n",
              "      <td>-0.032260</td>\n",
              "      <td>0.113235</td>\n",
              "      <td>-0.082685</td>\n",
              "      <td>1.000000</td>\n",
              "    </tr>\n",
              "    <tr>\n",
              "      <th>75%</th>\n",
              "      <td>3375.250000</td>\n",
              "      <td>0.507332</td>\n",
              "      <td>0.405330</td>\n",
              "      <td>0.458387</td>\n",
              "      <td>0.478183</td>\n",
              "      <td>0.555465</td>\n",
              "      <td>0.498605</td>\n",
              "      <td>0.506625</td>\n",
              "      <td>0.379340</td>\n",
              "      <td>0.377330</td>\n",
              "      <td>...</td>\n",
              "      <td>0.370608</td>\n",
              "      <td>0.571075</td>\n",
              "      <td>0.438713</td>\n",
              "      <td>0.429145</td>\n",
              "      <td>0.459985</td>\n",
              "      <td>0.417493</td>\n",
              "      <td>0.495538</td>\n",
              "      <td>0.585468</td>\n",
              "      <td>0.469020</td>\n",
              "      <td>1.000000</td>\n",
              "    </tr>\n",
              "    <tr>\n",
              "      <th>max</th>\n",
              "      <td>4500.000000</td>\n",
              "      <td>2.518200</td>\n",
              "      <td>2.452530</td>\n",
              "      <td>3.637160</td>\n",
              "      <td>2.775740</td>\n",
              "      <td>3.247220</td>\n",
              "      <td>3.028140</td>\n",
              "      <td>2.761340</td>\n",
              "      <td>2.548660</td>\n",
              "      <td>2.384070</td>\n",
              "      <td>...</td>\n",
              "      <td>2.954360</td>\n",
              "      <td>2.375880</td>\n",
              "      <td>2.641460</td>\n",
              "      <td>3.227290</td>\n",
              "      <td>2.654210</td>\n",
              "      <td>2.833950</td>\n",
              "      <td>2.632360</td>\n",
              "      <td>2.405620</td>\n",
              "      <td>2.827810</td>\n",
              "      <td>1.000000</td>\n",
              "    </tr>\n",
              "  </tbody>\n",
              "</table>\n",
              "<p>8 rows × 514 columns</p>\n",
              "</div>"
            ],
            "text/plain": [
              "                id           v1           v2           v3           v4  \\\n",
              "count  4500.000000  4500.000000  4500.000000  4500.000000  4500.000000   \n",
              "mean   2250.500000     0.029433    -0.072952    -0.063137    -0.027426   \n",
              "std    1299.182435     0.769812     0.740963     0.746607     0.744712   \n",
              "min       1.000000    -2.895330    -2.381940    -2.599930    -2.748930   \n",
              "25%    1125.750000    -0.489807    -0.568788    -0.575425    -0.548002   \n",
              "50%    2250.500000    -0.001540    -0.097665    -0.053115    -0.058240   \n",
              "75%    3375.250000     0.507332     0.405330     0.458387     0.478183   \n",
              "max    4500.000000     2.518200     2.452530     3.637160     2.775740   \n",
              "\n",
              "                v5           v6           v7           v8           v9  ...  \\\n",
              "count  4500.000000  4500.000000  4500.000000  4500.000000  4500.000000  ...   \n",
              "mean      0.009050    -0.032587     0.005451    -0.101231    -0.134099  ...   \n",
              "std       0.775853     0.770992     0.761690     0.748796     0.746005  ...   \n",
              "min      -2.291530    -4.020940    -2.736720    -2.872970    -2.397950  ...   \n",
              "25%      -0.541330    -0.550515    -0.516868    -0.582322    -0.658523  ...   \n",
              "50%       0.003175    -0.046450     0.005075    -0.097295    -0.149740  ...   \n",
              "75%       0.555465     0.498605     0.506625     0.379340     0.377330  ...   \n",
              "max       3.247220     3.028140     2.761340     2.548660     2.384070  ...   \n",
              "\n",
              "              v504         v505         v506         v507         v508  \\\n",
              "count  4500.000000  4500.000000  4500.000000  4500.000000  4500.000000   \n",
              "mean     -0.091886     0.057622    -0.063235    -0.081697    -0.032337   \n",
              "std       0.735644     0.739561     0.731691     0.761166     0.738119   \n",
              "min      -2.788230    -2.624400    -2.806240    -2.907480    -3.136690   \n",
              "25%      -0.537458    -0.445472    -0.546610    -0.601095    -0.506628   \n",
              "50%      -0.124335     0.034310    -0.045235    -0.103520    -0.038690   \n",
              "75%       0.370608     0.571075     0.438713     0.429145     0.459985   \n",
              "max       2.954360     2.375880     2.641460     3.227290     2.654210   \n",
              "\n",
              "              v509         v510         v511         v512      glasses  \n",
              "count  4500.000000  4500.000000  4500.000000  4500.000000  4500.000000  \n",
              "mean     -0.084307    -0.032826     0.096038    -0.064696     0.634667  \n",
              "std       0.743303     0.756891     0.737970     0.830538     0.481577  \n",
              "min      -2.490630    -2.510730    -2.626380    -2.906970     0.000000  \n",
              "25%      -0.605840    -0.546325    -0.373465    -0.615955     0.000000  \n",
              "50%      -0.099355    -0.032260     0.113235    -0.082685     1.000000  \n",
              "75%       0.417493     0.495538     0.585468     0.469020     1.000000  \n",
              "max       2.833950     2.632360     2.405620     2.827810     1.000000  \n",
              "\n",
              "[8 rows x 514 columns]"
            ]
          },
          "execution_count": 44,
          "metadata": {},
          "output_type": "execute_result"
        }
      ]
    },
    {
      "cell_type": "code",
      "metadata": {
        "id": "AwFTB9vAbo94",
        "outputId": "7ae44cc7-f6f1-47ee-fbab-d5ad5ce3699d"
      },
      "source": [
        "# checking the distribution of target class\n",
        "import seaborn as sns\n",
        "sns.set(style='whitegrid', palette=\"deep\", font_scale=1.1, rc={\"figure.figsize\": [10, 6]})\n",
        "sns.histplot(data = df, x=\"glasses\", color=\"green\", label=\"glasses\")\n",
        "plt.legend() \n",
        "plt.show()"
      ],
      "execution_count": null,
      "outputs": [
        {
          "data": {
            "image/png": "[encoded data removed]",
            "text/plain": [
              "<Figure size 720x432 with 1 Axes>"
            ]
          },
          "metadata": {},
          "output_type": "display_data"
        }
      ]
    },
    {
      "cell_type": "code",
      "metadata": {
        "id": "LWHgLFu6bo95",
        "outputId": "669fa220-5e8d-407c-fe57-a623872a07f9"
      },
      "source": [
        "# separation of dependenta and independent column\n",
        "X=df.drop(['id', 'glasses'], axis=1)\n",
        "y=df['glasses']\n",
        "X.values\n",
        "y.values"
      ],
      "execution_count": null,
      "outputs": [
        {
          "data": {
            "text/plain": [
              "array([0, 1, 1, ..., 1, 1, 0], dtype=int64)"
            ]
          },
          "execution_count": 46,
          "metadata": {},
          "output_type": "execute_result"
        }
      ]
    },
    {
      "cell_type": "code",
      "metadata": {
        "id": "nd3Cd20Mbo95"
      },
      "source": [
        "from sklearn.model_selection import train_test_split\n",
        "X_train, X_test, y_train, y_test = train_test_split(X, y, test_size=0.3, random_state=0)\n"
      ],
      "execution_count": null,
      "outputs": []
    },
    {
      "cell_type": "markdown",
      "metadata": {
        "id": "7R5pEg0cbo95"
      },
      "source": [
        "# Scaling the Dataset(normalization process)"
      ]
    },
    {
      "cell_type": "code",
      "metadata": {
        "id": "SwcP_NTObo96"
      },
      "source": [
        "# Scaling the dataset\n",
        "sc_X = StandardScaler()\n",
        "X_train=sc_X.fit_transform(X_train)\n",
        "X_test=sc_X.transform(X_test)"
      ],
      "execution_count": null,
      "outputs": []
    },
    {
      "cell_type": "markdown",
      "metadata": {
        "id": "vh2Lt0YGbo96"
      },
      "source": [
        "# Artificial Neural Network Model 1"
      ]
    },
    {
      "cell_type": "code",
      "metadata": {
        "id": "d9kHTtzAbo96"
      },
      "source": [
        "model = keras.Sequential([\n",
        "    keras.layers.Flatten(input_shape=(512,)),\n",
        "    keras.layers.Dense(32, activation=tf.nn.relu),\n",
        "\tkeras.layers.Dense(32, activation=tf.nn.relu),\n",
        "    keras.layers.Dense(1, activation=tf.nn.sigmoid),\n",
        "])"
      ],
      "execution_count": null,
      "outputs": []
    },
    {
      "cell_type": "code",
      "metadata": {
        "id": "OJirlfkfbo97"
      },
      "source": [
        "model.compile(optimizer='sgd',\n",
        "              loss='binary_crossentropy',\n",
        "              metrics=['accuracy'])\n",
        "\n"
      ],
      "execution_count": null,
      "outputs": []
    },
    {
      "cell_type": "code",
      "metadata": {
        "id": "DZ11un1Ybo97",
        "outputId": "8e9522f9-56b1-4514-f1cc-25833826c6e7"
      },
      "source": [
        "history=model.fit(X_train, y_train, epochs=10, validation_data=(X_test,y_test), batch_size=32)\n"
      ],
      "execution_count": null,
      "outputs": [
        {
          "name": "stdout",
          "output_type": "stream",
          "text": [
            "Epoch 1/10\n",
            "99/99 [==============================] - 1s 3ms/step - loss: 0.6474 - accuracy: 0.6317 - val_loss: 0.5954 - val_accuracy: 0.6896\n",
            "Epoch 2/10\n",
            "99/99 [==============================] - 0s 2ms/step - loss: 0.5312 - accuracy: 0.7498 - val_loss: 0.5109 - val_accuracy: 0.7741\n",
            "Epoch 3/10\n",
            "99/99 [==============================] - 0s 2ms/step - loss: 0.4270 - accuracy: 0.8352 - val_loss: 0.4090 - val_accuracy: 0.8452\n",
            "Epoch 4/10\n",
            "99/99 [==============================] - 0s 2ms/step - loss: 0.3170 - accuracy: 0.9079 - val_loss: 0.3082 - val_accuracy: 0.9000\n",
            "Epoch 5/10\n",
            "99/99 [==============================] - 0s 2ms/step - loss: 0.2220 - accuracy: 0.9460 - val_loss: 0.2270 - val_accuracy: 0.9319\n",
            "Epoch 6/10\n",
            "99/99 [==============================] - 0s 2ms/step - loss: 0.1534 - accuracy: 0.9673 - val_loss: 0.1701 - val_accuracy: 0.9526\n",
            "Epoch 7/10\n",
            "99/99 [==============================] - 0s 2ms/step - loss: 0.1075 - accuracy: 0.9816 - val_loss: 0.1317 - val_accuracy: 0.9652\n",
            "Epoch 8/10\n",
            "99/99 [==============================] - 0s 2ms/step - loss: 0.0775 - accuracy: 0.9892 - val_loss: 0.1058 - val_accuracy: 0.9704\n",
            "Epoch 9/10\n",
            "99/99 [==============================] - 0s 2ms/step - loss: 0.0574 - accuracy: 0.9946 - val_loss: 0.0880 - val_accuracy: 0.9778\n",
            "Epoch 10/10\n",
            "99/99 [==============================] - 0s 2ms/step - loss: 0.0436 - accuracy: 0.9968 - val_loss: 0.0751 - val_accuracy: 0.9807\n"
          ]
        }
      ]
    },
    {
      "cell_type": "code",
      "metadata": {
        "id": "ix1RIehZbo98",
        "outputId": "2041b8a8-cbc9-4b82-d069-bb532a52ec08"
      },
      "source": [
        "\n",
        "test_loss, test_acc = model.evaluate(X_test, y_test)\n",
        "print('Test accuracy:', test_acc)"
      ],
      "execution_count": null,
      "outputs": [
        {
          "name": "stdout",
          "output_type": "stream",
          "text": [
            "43/43 [==============================] - 0s 2ms/step - loss: 0.0751 - accuracy: 0.9807\n",
            "Test accuracy: 0.9807407259941101\n"
          ]
        }
      ]
    },
    {
      "cell_type": "code",
      "metadata": {
        "id": "ltoB4vUZbo98",
        "outputId": "cb3c4641-3586-4150-8b1a-2e7ac9c693d8"
      },
      "source": [
        "# list all data in history\n",
        "print(history.history.keys())\n",
        "# summarize history for accuracy\n",
        "plt.plot(history.history['accuracy'])\n",
        "plt.plot(history.history['val_accuracy'])\n",
        "plt.title('model accuracy')\n",
        "plt.ylabel('accuracy')\n",
        "plt.xlabel('epoch')\n",
        "plt.legend(['train', 'test'], loc='upper left')\n",
        "plt.show()\n",
        "# summarize history for loss\n",
        "plt.plot(history.history['loss'])\n",
        "plt.plot(history.history['val_loss'])\n",
        "plt.title('model loss')\n",
        "plt.ylabel('loss')\n",
        "plt.xlabel('epoch')\n",
        "plt.legend(['train', 'test'], loc='upper left')\n",
        "plt.show()"
      ],
      "execution_count": null,
      "outputs": [
        {
          "name": "stdout",
          "output_type": "stream",
          "text": [
            "dict_keys(['loss', 'accuracy', 'val_loss', 'val_accuracy'])\n"
          ]
        },
        {
          "data": {
            "image/png": "[encoded data removed]",
            "text/plain": [
              "<Figure size 720x432 with 1 Axes>"
            ]
          },
          "metadata": {},
          "output_type": "display_data"
        },
        {
          "data": {
            "image/png": "[encoded data removed]",
            "text/plain": [
              "<Figure size 720x432 with 1 Axes>"
            ]
          },
          "metadata": {},
          "output_type": "display_data"
        }
      ]
    },
    {
      "cell_type": "markdown",
      "metadata": {
        "id": "LYa6SjIcbo99"
      },
      "source": [
        "# Performance Evaluation"
      ]
    },
    {
      "cell_type": "code",
      "metadata": {
        "id": "dghSphetbo99",
        "outputId": "7b4dbcc7-5149-4798-c6fe-68e43c3aa56a"
      },
      "source": [
        "#Model prediction\n",
        "pred = model.predict(X_test)\n",
        "y_pred = (pred > 0.5)\n",
        "y_pred"
      ],
      "execution_count": null,
      "outputs": [
        {
          "data": {
            "text/plain": [
              "array([[False],\n",
              "       [ True],\n",
              "       [ True],\n",
              "       ...,\n",
              "       [ True],\n",
              "       [ True],\n",
              "       [False]])"
            ]
          },
          "execution_count": 220,
          "metadata": {},
          "output_type": "execute_result"
        }
      ]
    },
    {
      "cell_type": "code",
      "metadata": {
        "id": "AmRcw_7Ybo99",
        "outputId": "1b277c5f-8186-4a40-f4a3-26db64971359"
      },
      "source": [
        "#Model Accuracy\n",
        "print('Model accuracy', accuracy_score(y_test, y_pred))"
      ],
      "execution_count": null,
      "outputs": [
        {
          "name": "stdout",
          "output_type": "stream",
          "text": [
            "Model accuracy 0.9807407407407407\n"
          ]
        }
      ]
    },
    {
      "cell_type": "code",
      "metadata": {
        "id": "ZW3uA3vsbo9-",
        "outputId": "c72be480-f303-44af-a236-9db58772ac09"
      },
      "source": [
        "from sklearn.metrics import confusion_matrix\n",
        "cm = confusion_matrix(y_test, y_pred)\n",
        "print(cm)\n"
      ],
      "execution_count": null,
      "outputs": [
        {
          "name": "stdout",
          "output_type": "stream",
          "text": [
            "[[465  17]\n",
            " [  9 859]]\n"
          ]
        }
      ]
    },
    {
      "cell_type": "code",
      "metadata": {
        "id": "VM9fP82_bo9-",
        "outputId": "d148c899-b32f-4852-dec7-53e977f8815c"
      },
      "source": [
        "# Print the confusion matrix using Matplotlib\n",
        "#\n",
        "fig, ax = plt.subplots(figsize=(5, 5))\n",
        "ax.matshow(cm, cmap=plt.cm.Oranges, alpha=0.3)\n",
        "for i in range(cm.shape[0]):\n",
        "    for j in range(cm.shape[1]):\n",
        "        ax.text(x=j, y=i,s=cm[i, j], va='center', ha='center', size='xx-large')\n",
        " \n",
        "plt.xlabel('Predictions', fontsize=18)\n",
        "plt.ylabel('Actuals', fontsize=18)\n",
        "plt.title('Confusion Matrix', fontsize=18)\n",
        "plt.show()"
      ],
      "execution_count": null,
      "outputs": [
        {
          "data": {
            "image/png": "[encoded data removed]",
            "text/plain": [
              "<Figure size 360x360 with 1 Axes>"
            ]
          },
          "metadata": {},
          "output_type": "display_data"
        }
      ]
    },
    {
      "cell_type": "code",
      "metadata": {
        "id": "hRVaMdybbo9-",
        "outputId": "cb366008-b750-4920-a658-4d8801c838c7"
      },
      "source": [
        "print('Precision: %.3f' % precision_score(y_test, y_pred))"
      ],
      "execution_count": null,
      "outputs": [
        {
          "name": "stdout",
          "output_type": "stream",
          "text": [
            "Precision: 0.981\n"
          ]
        }
      ]
    },
    {
      "cell_type": "code",
      "metadata": {
        "id": "_wZVw5hFbo9-",
        "outputId": "f2967f7e-90bb-4a1b-84db-e5f14a625d7f"
      },
      "source": [
        "print('Recall: %.3f' % recall_score(y_test, y_pred))"
      ],
      "execution_count": null,
      "outputs": [
        {
          "name": "stdout",
          "output_type": "stream",
          "text": [
            "Recall: 0.990\n"
          ]
        }
      ]
    },
    {
      "cell_type": "code",
      "metadata": {
        "id": "BjixSgwvbo9_",
        "outputId": "a6913f66-c172-4366-ebb8-6862fc5a4162"
      },
      "source": [
        "print('F1 Score: %.3f' % f1_score(y_test, y_pred))"
      ],
      "execution_count": null,
      "outputs": [
        {
          "name": "stdout",
          "output_type": "stream",
          "text": [
            "F1 Score: 0.985\n"
          ]
        }
      ]
    },
    {
      "cell_type": "code",
      "metadata": {
        "id": "2cuqy2NUbo9_",
        "outputId": "763aedd6-9b26-4147-ee87-540bf523b04b"
      },
      "source": [
        "y_prob = model.predict_proba(X_test)\n",
        "false_positive_rate, true_positive_rate, thresholds = roc_curve(y_test, y_prob)\n",
        "roc_auc = auc(false_positive_rate, true_positive_rate)\n",
        "roc_auc"
      ],
      "execution_count": null,
      "outputs": [
        {
          "name": "stderr",
          "output_type": "stream",
          "text": [
            "C:\\Users\\admin\\AppData\\Roaming\\Python\\Python38\\site-packages\\tensorflow\\python\\keras\\engine\\sequential.py:430: UserWarning: `model.predict_proba()` is deprecated and will be removed after 2021-01-01. Please use `model.predict()` instead.\n",
            "  warnings.warn('`model.predict_proba()` is deprecated and '\n"
          ]
        },
        {
          "data": {
            "text/plain": [
              "0.9983435952349083"
            ]
          },
          "execution_count": 227,
          "metadata": {},
          "output_type": "execute_result"
        }
      ]
    },
    {
      "cell_type": "code",
      "metadata": {
        "id": "FlxQGlazbo9_",
        "outputId": "41194212-b82e-42de-e5b4-9e7f770a9077"
      },
      "source": [
        "import matplotlib.pyplot as plt\n",
        "plt.figure(figsize=(10,10))\n",
        "plt.title('Receiver Operating Characteristic')\n",
        "plt.plot(false_positive_rate,true_positive_rate, color='red',label = 'AUC = %0.2f' % roc_auc)\n",
        "plt.legend(loc = 'lower right')\n",
        "plt.plot([0, 1], [0, 1],linestyle='--')\n",
        "plt.axis('tight')\n",
        "plt.ylabel('True Positive Rate')\n",
        "plt.xlabel('False Positive Rate')"
      ],
      "execution_count": null,
      "outputs": [
        {
          "data": {
            "text/plain": [
              "Text(0.5, 0, 'False Positive Rate')"
            ]
          },
          "execution_count": 228,
          "metadata": {},
          "output_type": "execute_result"
        },
        {
          "data": {
            "image/png": "[encoded data removed]",
            "text/plain": [
              "<Figure size 720x720 with 1 Axes>"
            ]
          },
          "metadata": {},
          "output_type": "display_data"
        }
      ]
    },
    {
      "cell_type": "code",
      "metadata": {
        "id": "E-7761nlbo-A"
      },
      "source": [
        ""
      ],
      "execution_count": null,
      "outputs": []
    },
    {
      "cell_type": "markdown",
      "metadata": {
        "id": "P6CvdDcFbo-A"
      },
      "source": [
        "# Neural Network Model 2"
      ]
    },
    {
      "cell_type": "code",
      "metadata": {
        "id": "wQdpjadVbo-A"
      },
      "source": [
        "model_2 = keras.Sequential([\n",
        "    keras.layers.Flatten(input_shape=(512,)),\n",
        "    keras.layers.Dense(1000, activation=tf.nn.relu),\n",
        "    keras.layers.Dense(1000, activation=tf.nn.relu),\n",
        "    keras.layers.Dense(1000, activation=tf.nn.relu),\n",
        "    keras.layers.Dense(1000, activation=tf.nn.relu),\n",
        "    keras.layers.Dense(1, activation=tf.nn.sigmoid),\n",
        "])"
      ],
      "execution_count": null,
      "outputs": []
    },
    {
      "cell_type": "code",
      "metadata": {
        "id": "6v9-6dDQbo-A"
      },
      "source": [
        "model_2.compile(optimizer='adam',\n",
        "              loss='binary_crossentropy',\n",
        "              metrics=['accuracy'])"
      ],
      "execution_count": null,
      "outputs": []
    },
    {
      "cell_type": "code",
      "metadata": {
        "id": "7lj6Z8Qibo-B",
        "outputId": "83757860-2ff7-4eac-c51f-cb4dececf0ff"
      },
      "source": [
        "history_2=model_2.fit(X_train, y_train, epochs=10, validation_data=(X_test,y_test), batch_size=32)"
      ],
      "execution_count": null,
      "outputs": [
        {
          "name": "stdout",
          "output_type": "stream",
          "text": [
            "Epoch 1/10\n",
            "99/99 [==============================] - 4s 38ms/step - loss: 0.1997 - accuracy: 0.9032 - val_loss: 0.0113 - val_accuracy: 0.9948\n",
            "Epoch 2/10\n",
            "99/99 [==============================] - 4s 38ms/step - loss: 0.0121 - accuracy: 0.9962 - val_loss: 0.0152 - val_accuracy: 0.9933\n",
            "Epoch 3/10\n",
            "99/99 [==============================] - 4s 40ms/step - loss: 0.0047 - accuracy: 0.9981 - val_loss: 0.0253 - val_accuracy: 0.9933\n",
            "Epoch 4/10\n",
            "99/99 [==============================] - 4s 40ms/step - loss: 0.0103 - accuracy: 0.9971 - val_loss: 0.0124 - val_accuracy: 0.9963\n",
            "Epoch 5/10\n",
            "99/99 [==============================] - 4s 39ms/step - loss: 0.0033 - accuracy: 0.9984 - val_loss: 0.0160 - val_accuracy: 0.9956\n",
            "Epoch 6/10\n",
            "99/99 [==============================] - 4s 39ms/step - loss: 0.0153 - accuracy: 0.9956 - val_loss: 0.0951 - val_accuracy: 0.9867\n",
            "Epoch 7/10\n",
            "99/99 [==============================] - 4s 42ms/step - loss: 0.0065 - accuracy: 0.9968 - val_loss: 0.0425 - val_accuracy: 0.9896\n",
            "Epoch 8/10\n",
            "99/99 [==============================] - 4s 42ms/step - loss: 2.1700e-04 - accuracy: 1.0000 - val_loss: 0.1045 - val_accuracy: 0.9874\n",
            "Epoch 9/10\n",
            "99/99 [==============================] - 4s 43ms/step - loss: 5.4598e-05 - accuracy: 1.0000 - val_loss: 0.0784 - val_accuracy: 0.9911\n",
            "Epoch 10/10\n",
            "99/99 [==============================] - 4s 42ms/step - loss: 2.8748e-07 - accuracy: 1.0000 - val_loss: 0.0689 - val_accuracy: 0.9919\n"
          ]
        }
      ]
    },
    {
      "cell_type": "code",
      "metadata": {
        "id": "CM1T3vETbo-B",
        "outputId": "b99141a2-a47b-4296-f1d1-9c1527df59d8"
      },
      "source": [
        "test_loss, test_acc = model_2.evaluate(X_test, y_test)\n",
        "print('Test accuracy:', test_acc)"
      ],
      "execution_count": null,
      "outputs": [
        {
          "name": "stdout",
          "output_type": "stream",
          "text": [
            "43/43 [==============================] - 1s 12ms/step - loss: 0.0689 - accuracy: 0.9919\n",
            "Test accuracy: 0.9918518662452698\n"
          ]
        }
      ]
    },
    {
      "cell_type": "code",
      "metadata": {
        "id": "BntYy6K2bo-B",
        "outputId": "4ef0c159-ebac-450b-9869-02b8648daddc"
      },
      "source": [
        "# list all data in history\n",
        "print(history.history.keys())\n",
        "# summarize history for accuracy\n",
        "plt.plot(history_2.history['accuracy'])\n",
        "plt.plot(history_2.history['val_accuracy'])\n",
        "plt.title('model accuracy')\n",
        "plt.ylabel('accuracy')\n",
        "plt.xlabel('epoch')\n",
        "plt.legend(['train', 'test'], loc='upper left')\n",
        "plt.show()\n",
        "# summarize history for loss\n",
        "plt.plot(history_2.history['loss'])\n",
        "plt.plot(history_2.history['val_loss'])\n",
        "plt.title('model loss')\n",
        "plt.ylabel('loss')\n",
        "plt.xlabel('epoch')\n",
        "plt.legend(['train', 'test'], loc='upper left')\n",
        "plt.show()"
      ],
      "execution_count": null,
      "outputs": [
        {
          "data": {
            "image/png": "[encoded data removed]",
            "text/plain": [
              "<Figure size 720x432 with 1 Axes>"
            ]
          },
          "metadata": {},
          "output_type": "display_data"
        },
        {
          "data": {
            "image/png": "[encoded data removed]",
            "text/plain": [
              "<Figure size 720x432 with 1 Axes>"
            ]
          },
          "metadata": {},
          "output_type": "display_data"
        }
      ]
    },
    {
      "cell_type": "markdown",
      "metadata": {
        "id": "kegx6gqnbo-B"
      },
      "source": [
        "\n",
        "# Performance Evaluation"
      ]
    },
    {
      "cell_type": "code",
      "metadata": {
        "id": "YIRmIQXQbo-B",
        "outputId": "d44f9dc7-2f0c-41a7-cf9b-ed81d571ff8d"
      },
      "source": [
        "#Model prediction\n",
        "pred = model_2.predict(X_test)\n",
        "y_pred = (pred > 0.5)\n",
        "y_pred"
      ],
      "execution_count": null,
      "outputs": [
        {
          "data": {
            "text/plain": [
              "array([[False],\n",
              "       [ True],\n",
              "       [ True],\n",
              "       ...,\n",
              "       [ True],\n",
              "       [ True],\n",
              "       [False]])"
            ]
          },
          "execution_count": 275,
          "metadata": {},
          "output_type": "execute_result"
        }
      ]
    },
    {
      "cell_type": "code",
      "metadata": {
        "id": "25bTakngbo-C",
        "outputId": "1645167d-6c68-420e-df5c-a573e2249bbf"
      },
      "source": [
        "#Model Accuracy\n",
        "print('Model accuracy', accuracy_score(y_test, y_pred))"
      ],
      "execution_count": null,
      "outputs": [
        {
          "name": "stdout",
          "output_type": "stream",
          "text": [
            "Model accuracy 0.9918518518518519\n"
          ]
        }
      ]
    },
    {
      "cell_type": "code",
      "metadata": {
        "id": "sI8p73VCbo-C",
        "outputId": "ccdcccbd-ad95-4405-edd1-5903dbed32a5"
      },
      "source": [
        "from sklearn.metrics import confusion_matrix\n",
        "cm = confusion_matrix(y_test, y_pred)\n",
        "print(cm)\n"
      ],
      "execution_count": null,
      "outputs": [
        {
          "name": "stdout",
          "output_type": "stream",
          "text": [
            "[[471  11]\n",
            " [  0 868]]\n"
          ]
        }
      ]
    },
    {
      "cell_type": "code",
      "metadata": {
        "id": "vPRKP4hqbo-C",
        "outputId": "0fb24f8e-0816-424c-ceaf-a664bb86d188"
      },
      "source": [
        "# Print the confusion matrix using Matplotlib\n",
        "#\n",
        "fig, ax = plt.subplots(figsize=(5, 5))\n",
        "ax.matshow(cm, cmap=plt.cm.Oranges, alpha=0.3)\n",
        "for i in range(cm.shape[0]):\n",
        "    for j in range(cm.shape[1]):\n",
        "        ax.text(x=j, y=i,s=cm[i, j], va='center', ha='center', size='xx-large')\n",
        " \n",
        "plt.xlabel('Predictions', fontsize=18)\n",
        "plt.ylabel('Actuals', fontsize=18)\n",
        "plt.title('Confusion Matrix', fontsize=18)\n",
        "plt.show()"
      ],
      "execution_count": null,
      "outputs": [
        {
          "data": {
            "image/png": "[encoded data removed]",
            "text/plain": [
              "<Figure size 360x360 with 1 Axes>"
            ]
          },
          "metadata": {},
          "output_type": "display_data"
        }
      ]
    },
    {
      "cell_type": "code",
      "metadata": {
        "id": "f4FpOjzKbo-C",
        "outputId": "0a606e33-2b85-44fb-ebf7-56070a23b4d3"
      },
      "source": [
        "print('Precision: %.3f' % precision_score(y_test, y_pred))"
      ],
      "execution_count": null,
      "outputs": [
        {
          "name": "stdout",
          "output_type": "stream",
          "text": [
            "Precision: 0.987\n"
          ]
        }
      ]
    },
    {
      "cell_type": "code",
      "metadata": {
        "id": "Xmn-0Mqwbo-C",
        "outputId": "4a935c53-d395-495e-82fb-54ff7064759d"
      },
      "source": [
        "print('Recall: %.3f' % recall_score(y_test, y_pred))"
      ],
      "execution_count": null,
      "outputs": [
        {
          "name": "stdout",
          "output_type": "stream",
          "text": [
            "Recall: 1.000\n"
          ]
        }
      ]
    },
    {
      "cell_type": "code",
      "metadata": {
        "id": "CIlywGUUbo-D",
        "outputId": "7a4679ef-47f0-40bc-9495-4f20790f37a1"
      },
      "source": [
        "print('F1 Score: %.3f' % f1_score(y_test, y_pred))"
      ],
      "execution_count": null,
      "outputs": [
        {
          "name": "stdout",
          "output_type": "stream",
          "text": [
            "F1 Score: 0.994\n"
          ]
        }
      ]
    },
    {
      "cell_type": "markdown",
      "metadata": {
        "id": "-5CD7l80bo-D"
      },
      "source": [
        "# Neural Network Model 3"
      ]
    },
    {
      "cell_type": "code",
      "metadata": {
        "id": "a4jh_GJhbo-D"
      },
      "source": [
        "from keras.layers import Dropout\n",
        "from keras import regularizers"
      ],
      "execution_count": null,
      "outputs": []
    },
    {
      "cell_type": "code",
      "metadata": {
        "id": "vJQjqnKObo-D"
      },
      "source": [
        "model_3 = keras.Sequential([\n",
        "    keras.layers.Flatten(input_shape=(512,)),\n",
        "    keras.layers.Dense(1000, activation=tf.nn.relu, kernel_regularizer=regularizers.l2(0.01), input_shape=(512,)),\n",
        "    Dropout(0.3),\n",
        "    keras.layers.Dense(1000, activation=tf.nn.relu, kernel_regularizer=regularizers.l2(0.01)),\n",
        "    Dropout(0.3),\n",
        "    keras.layers.Dense(1000, activation=tf.nn.relu, kernel_regularizer=regularizers.l2(0.01)),\n",
        "    Dropout(0.3),\n",
        "    keras.layers.Dense(1000, activation=tf.nn.relu, kernel_regularizer=regularizers.l2(0.01)),\n",
        "    Dropout(0.3),\n",
        "    keras.layers.Dense(1, activation=tf.nn.sigmoid, kernel_regularizer=regularizers.l2(0.01)),\n",
        "])"
      ],
      "execution_count": null,
      "outputs": []
    },
    {
      "cell_type": "code",
      "metadata": {
        "id": "8ZTPAHgqbo-E"
      },
      "source": [
        "model_3.compile(optimizer='adam',\n",
        "              loss='binary_crossentropy',\n",
        "              metrics=['accuracy'])"
      ],
      "execution_count": null,
      "outputs": []
    },
    {
      "cell_type": "code",
      "metadata": {
        "id": "JBouCz08bo-E",
        "outputId": "965f7604-24a5-4c90-e1c9-d6698050c073"
      },
      "source": [
        "history_3=model_3.fit(X_train, y_train, epochs=10, validation_data=(X_test,y_test), batch_size=32)"
      ],
      "execution_count": null,
      "outputs": [
        {
          "name": "stdout",
          "output_type": "stream",
          "text": [
            "Epoch 1/10\n",
            "99/99 [==============================] - 6s 51ms/step - loss: 12.0469 - accuracy: 0.9203 - val_loss: 2.1412 - val_accuracy: 0.9896\n",
            "Epoch 2/10\n",
            "99/99 [==============================] - 6s 63ms/step - loss: 0.9490 - accuracy: 0.9990 - val_loss: 0.3970 - val_accuracy: 0.9970\n",
            "Epoch 3/10\n",
            "99/99 [==============================] - 6s 61ms/step - loss: 0.2604 - accuracy: 1.0000 - val_loss: 0.2034 - val_accuracy: 0.9956\n",
            "Epoch 4/10\n",
            "99/99 [==============================] - 6s 56ms/step - loss: 0.2708 - accuracy: 0.9876 - val_loss: 0.3804 - val_accuracy: 0.9844\n",
            "Epoch 5/10\n",
            "99/99 [==============================] - 7s 73ms/step - loss: 0.2980 - accuracy: 0.9949 - val_loss: 0.2121 - val_accuracy: 0.9963\n",
            "Epoch 6/10\n",
            "99/99 [==============================] - 7s 66ms/step - loss: 0.1763 - accuracy: 0.9987 - val_loss: 0.1740 - val_accuracy: 0.9933\n",
            "Epoch 7/10\n",
            "99/99 [==============================] - 6s 60ms/step - loss: 0.1643 - accuracy: 0.9978 - val_loss: 0.2009 - val_accuracy: 0.9881\n",
            "Epoch 8/10\n",
            "99/99 [==============================] - 6s 56ms/step - loss: 0.2231 - accuracy: 0.9911 - val_loss: 0.2959 - val_accuracy: 0.9815\n",
            "Epoch 9/10\n",
            "99/99 [==============================] - 6s 57ms/step - loss: 0.2587 - accuracy: 0.9946 - val_loss: 0.2390 - val_accuracy: 0.9933\n",
            "Epoch 10/10\n",
            "99/99 [==============================] - 6s 58ms/step - loss: 0.1837 - accuracy: 0.9987 - val_loss: 0.1605 - val_accuracy: 1.0000\n"
          ]
        }
      ]
    },
    {
      "cell_type": "code",
      "metadata": {
        "id": "94A-6KLGbo-E",
        "outputId": "16740476-0b1c-4756-9032-4f9c98aef352"
      },
      "source": [
        "test_loss, test_acc = model_3.evaluate(X_test, y_test)\n",
        "print('Test accuracy:', test_acc)"
      ],
      "execution_count": null,
      "outputs": [
        {
          "name": "stdout",
          "output_type": "stream",
          "text": [
            "43/43 [==============================] - 1s 14ms/step - loss: 0.1605 - accuracy: 1.0000\n",
            "Test accuracy: 1.0\n"
          ]
        }
      ]
    },
    {
      "cell_type": "code",
      "metadata": {
        "id": "lEZAHduHbo-E",
        "outputId": "d37d9c24-b32e-4b53-b3b4-7a26a6235f06"
      },
      "source": [
        "# list all data in history\n",
        "print(history.history.keys())\n",
        "# summarize history for accuracy\n",
        "plt.plot(history_3.history['accuracy'])\n",
        "plt.plot(history_3.history['val_accuracy'])\n",
        "plt.title('model accuracy')\n",
        "plt.ylabel('accuracy')\n",
        "plt.xlabel('epoch')\n",
        "plt.legend(['train', 'test'], loc='upper left')\n",
        "plt.show()\n",
        "# summarize history for loss\n",
        "plt.plot(history_3.history['loss'])\n",
        "plt.plot(history_3.history['val_loss'])\n",
        "plt.title('Model loss')\n",
        "plt.ylabel('Loss')\n",
        "plt.xlabel('Epoch')\n",
        "plt.legend(['Train', 'Val'], loc='upper right')\n",
        "#plt.ylim(top=1.2, bottom=0)\n",
        "plt.show()\n"
      ],
      "execution_count": null,
      "outputs": [
        {
          "data": {
            "image/png": "[encoded data removed]",
            "text/plain": [
              "<Figure size 720x432 with 1 Axes>"
            ]
          },
          "metadata": {},
          "output_type": "display_data"
        },
        {
          "data": {
            "image/png": "[encoded data removed]",
            "text/plain": [
              "<Figure size 720x432 with 1 Axes>"
            ]
          },
          "metadata": {},
          "output_type": "display_data"
        }
      ]
    },
    {
      "cell_type": "markdown",
      "metadata": {
        "id": "XKC4Sgiubo-E"
      },
      "source": [
        "# Performance Evaluation"
      ]
    },
    {
      "cell_type": "code",
      "metadata": {
        "id": "PEuPCf_Sbo-F",
        "outputId": "2469a439-9a3c-4bfe-f5f3-d68130ba1111"
      },
      "source": [
        "#Model prediction\n",
        "pred = model_3.predict(X_test)\n",
        "y_pred = (pred > 0.5)\n",
        "y_pred"
      ],
      "execution_count": null,
      "outputs": [
        {
          "data": {
            "text/plain": [
              "array([[False],\n",
              "       [ True],\n",
              "       [ True],\n",
              "       ...,\n",
              "       [ True],\n",
              "       [ True],\n",
              "       [False]])"
            ]
          },
          "execution_count": 259,
          "metadata": {},
          "output_type": "execute_result"
        }
      ]
    },
    {
      "cell_type": "code",
      "metadata": {
        "id": "LW7SSmUgbo-F",
        "outputId": "4a132826-5ff5-4593-c4ad-4cfbb65e305c"
      },
      "source": [
        "#Model Accuracy\n",
        "print('Model accuracy', accuracy_score(y_test, y_pred))"
      ],
      "execution_count": null,
      "outputs": [
        {
          "name": "stdout",
          "output_type": "stream",
          "text": [
            "Model accuracy 1.0\n"
          ]
        }
      ]
    },
    {
      "cell_type": "code",
      "metadata": {
        "id": "VQ-6dUgzbo-F",
        "outputId": "aef93f37-a6a3-4ecf-ad26-b86893b92e11"
      },
      "source": [
        "from sklearn.metrics import confusion_matrix\n",
        "cm = confusion_matrix(y_test, y_pred)\n",
        "print(cm)\n"
      ],
      "execution_count": null,
      "outputs": [
        {
          "name": "stdout",
          "output_type": "stream",
          "text": [
            "[[482   0]\n",
            " [  0 868]]\n"
          ]
        }
      ]
    },
    {
      "cell_type": "code",
      "metadata": {
        "id": "Qu8Fx_s8bo-F",
        "outputId": "b4884d54-a509-4f12-82f4-803dc1153d5e"
      },
      "source": [
        "# Print the confusion matrix using Matplotlib\n",
        "#\n",
        "fig, ax = plt.subplots(figsize=(5, 5))\n",
        "ax.matshow(cm, cmap=plt.cm.Oranges, alpha=0.3)\n",
        "for i in range(cm.shape[0]):\n",
        "    for j in range(cm.shape[1]):\n",
        "        ax.text(x=j, y=i,s=cm[i, j], va='center', ha='center', size='xx-large')\n",
        " \n",
        "plt.xlabel('Predictions', fontsize=18)\n",
        "plt.ylabel('Actuals', fontsize=18)\n",
        "plt.title('Confusion Matrix', fontsize=18)\n",
        "plt.show()"
      ],
      "execution_count": null,
      "outputs": [
        {
          "data": {
            "image/png": "[encoded data removed]",
            "text/plain": [
              "<Figure size 360x360 with 1 Axes>"
            ]
          },
          "metadata": {},
          "output_type": "display_data"
        }
      ]
    },
    {
      "cell_type": "code",
      "metadata": {
        "id": "mBFF8Pp_bo-F",
        "outputId": "e9d6d0e1-1e52-421d-874b-e6ddfe78d6c8"
      },
      "source": [
        "print('Precision: %.3f' % precision_score(y_test, y_pred))"
      ],
      "execution_count": null,
      "outputs": [
        {
          "name": "stdout",
          "output_type": "stream",
          "text": [
            "Precision: 1.000\n"
          ]
        }
      ]
    },
    {
      "cell_type": "code",
      "metadata": {
        "id": "fKU-qqChbo-G",
        "outputId": "1ea72fb4-40eb-4b61-8bce-09a3ff038c09"
      },
      "source": [
        "print('Recall: %.3f' % recall_score(y_test, y_pred))"
      ],
      "execution_count": null,
      "outputs": [
        {
          "name": "stdout",
          "output_type": "stream",
          "text": [
            "Recall: 1.000\n"
          ]
        }
      ]
    },
    {
      "cell_type": "code",
      "metadata": {
        "id": "jkZS6mESbo-G",
        "outputId": "412fdc56-6d46-458a-a178-c6b38ecdcbbf"
      },
      "source": [
        "print('F1 Score: %.3f' % f1_score(y_test, y_pred))"
      ],
      "execution_count": null,
      "outputs": [
        {
          "name": "stdout",
          "output_type": "stream",
          "text": [
            "F1 Score: 1.000\n"
          ]
        }
      ]
    },
    {
      "cell_type": "code",
      "metadata": {
        "id": "kElXdtDfbo-G"
      },
      "source": [
        ""
      ],
      "execution_count": null,
      "outputs": []
    },
    {
      "cell_type": "code",
      "metadata": {
        "id": "My_zNWJbbo-G"
      },
      "source": [
        ""
      ],
      "execution_count": null,
      "outputs": []
    },
    {
      "cell_type": "code",
      "metadata": {
        "id": "_5_qRY8Jbo-G"
      },
      "source": [
        ""
      ],
      "execution_count": null,
      "outputs": []
    }
  ]
}